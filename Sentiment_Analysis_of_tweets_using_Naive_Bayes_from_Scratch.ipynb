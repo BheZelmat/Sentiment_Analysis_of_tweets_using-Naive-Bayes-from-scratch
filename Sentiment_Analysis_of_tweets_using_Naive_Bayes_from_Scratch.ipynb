{
  "cells": [
    {
      "cell_type": "markdown",
      "metadata": {
        "id": "YAm3C8l9jMW1"
      },
      "source": [
        "# Binary Sentiment Analysis Using Naive Bayes Algorithm built from scratch :\n",
        "\n",
        "\n",
        "---\n",
        "\n",
        "\n",
        "### Overview :\n",
        "\n",
        "* Train a naive bayes model on a sentiment analysis task\n",
        "* Test the model on tweets dataset\n",
        "* Compute ratios of positive words to negative words\n",
        "* Do some error analysis\n",
        "* Predict on your own tweet !\n",
        "\n"
      ]
    },
    {
      "cell_type": "markdown",
      "metadata": {
        "id": "6tmPhXe5jMW8"
      },
      "source": [
        "<a name='0'></a>\n",
        "## Importing Functions and Data"
      ]
    },
    {
      "cell_type": "code",
      "execution_count": 139,
      "metadata": {
        "id": "ta0VjyOcjMW8"
      },
      "outputs": [],
      "source": [
        "import re\n",
        "import pdb\n",
        "import itertools\n",
        "from nltk.corpus import stopwords\n",
        "import numpy as np\n",
        "import pandas as pd\n",
        "import matplotlib.pyplot as plt\n",
        "import seaborn as sns\n",
        "import nltk\n",
        "import string\n",
        "from nltk.tokenize import TweetTokenizer\n",
        "from sklearn.model_selection import train_test_split\n",
        "from sklearn.metrics import classification_report\n",
        "from nltk.corpus import stopwords\n",
        "from nltk.stem import PorterStemmer\n",
        "from nltk.tokenize import TweetTokenizer\n",
        "\n",
        "\n"
      ]
    },
    {
      "cell_type": "code",
      "execution_count": 140,
      "metadata": {
        "colab": {
          "base_uri": "https://localhost:8080/",
          "height": 0
        },
        "id": "XVtG3tUxoE4I",
        "outputId": "33659fa7-97ed-4d7f-d0af-df3795c70e8b"
      },
      "outputs": [
        {
          "name": "stdout",
          "output_type": "stream",
          "text": [
            "Drive already mounted at /content/drive; to attempt to forcibly remount, call drive.mount(\"/content/drive\", force_remount=True).\n"
          ]
        },
        {
          "name": "stderr",
          "output_type": "stream",
          "text": [
            "[nltk_data] Downloading package stopwords to /root/nltk_data...\n",
            "[nltk_data]   Package stopwords is already up-to-date!\n"
          ]
        },
        {
          "data": {
            "text/plain": [
              "True"
            ]
          },
          "execution_count": 140,
          "metadata": {},
          "output_type": "execute_result"
        }
      ],
      "source": [
        "\n",
        "nltk.download('stopwords')"
      ]
    },
    {
      "cell_type": "code",
      "execution_count": 141,
      "metadata": {
        "colab": {
          "base_uri": "https://localhost:8080/",
          "height": 424
        },
        "id": "iPrqCDXmmIE7",
        "outputId": "8447bc6c-1d6e-43fe-f06c-6af6dc0ccf01"
      },
      "outputs": [
        {
          "data": {
            "application/vnd.google.colaboratory.intrinsic+json": {
              "summary": "{\n  \"name\": \"tweets_data\",\n  \"rows\": 7920,\n  \"fields\": [\n    {\n      \"column\": \"id\",\n      \"properties\": {\n        \"dtype\": \"number\",\n        \"std\": 2286,\n        \"min\": 1,\n        \"max\": 7920,\n        \"num_unique_values\": 7920,\n        \"samples\": [\n          4897,\n          7540,\n          1678\n        ],\n        \"semantic_type\": \"\",\n        \"description\": \"\"\n      }\n    },\n    {\n      \"column\": \"label\",\n      \"properties\": {\n        \"dtype\": \"number\",\n        \"std\": 0,\n        \"min\": 0,\n        \"max\": 1,\n        \"num_unique_values\": 2,\n        \"samples\": [\n          1,\n          0\n        ],\n        \"semantic_type\": \"\",\n        \"description\": \"\"\n      }\n    },\n    {\n      \"column\": \"tweet\",\n      \"properties\": {\n        \"dtype\": \"string\",\n        \"num_unique_values\": 7918,\n        \"samples\": [\n          \"My face as dad gave me cards worth \\u00a320, 000.00 #gay #shopping #boy #macbook #apple #blonde #pickofthe http://instagr.am/p/Uo5Ue7H7A8/\",\n          \"@skullcandy your product is brutal, 1 headphone always stops working. Get it together #Sony ftw\"\n        ],\n        \"semantic_type\": \"\",\n        \"description\": \"\"\n      }\n    }\n  ]\n}",
              "type": "dataframe",
              "variable_name": "tweets_data"
            },
            "text/html": [
              "\n",
              "  <div id=\"df-2e9e7965-4d92-4492-9483-c37b2175a79d\" class=\"colab-df-container\">\n",
              "    <div>\n",
              "<style scoped>\n",
              "    .dataframe tbody tr th:only-of-type {\n",
              "        vertical-align: middle;\n",
              "    }\n",
              "\n",
              "    .dataframe tbody tr th {\n",
              "        vertical-align: top;\n",
              "    }\n",
              "\n",
              "    .dataframe thead th {\n",
              "        text-align: right;\n",
              "    }\n",
              "</style>\n",
              "<table border=\"1\" class=\"dataframe\">\n",
              "  <thead>\n",
              "    <tr style=\"text-align: right;\">\n",
              "      <th></th>\n",
              "      <th>id</th>\n",
              "      <th>label</th>\n",
              "      <th>tweet</th>\n",
              "    </tr>\n",
              "  </thead>\n",
              "  <tbody>\n",
              "    <tr>\n",
              "      <th>0</th>\n",
              "      <td>1</td>\n",
              "      <td>0</td>\n",
              "      <td>#fingerprint #Pregnancy Test https://goo.gl/h1...</td>\n",
              "    </tr>\n",
              "    <tr>\n",
              "      <th>1</th>\n",
              "      <td>2</td>\n",
              "      <td>0</td>\n",
              "      <td>Finally a transparant silicon case ^^ Thanks t...</td>\n",
              "    </tr>\n",
              "    <tr>\n",
              "      <th>2</th>\n",
              "      <td>3</td>\n",
              "      <td>0</td>\n",
              "      <td>We love this! Would you go? #talk #makememorie...</td>\n",
              "    </tr>\n",
              "    <tr>\n",
              "      <th>3</th>\n",
              "      <td>4</td>\n",
              "      <td>0</td>\n",
              "      <td>I'm wired I know I'm George I was made that wa...</td>\n",
              "    </tr>\n",
              "    <tr>\n",
              "      <th>4</th>\n",
              "      <td>5</td>\n",
              "      <td>1</td>\n",
              "      <td>What amazing service! Apple won't even talk to...</td>\n",
              "    </tr>\n",
              "    <tr>\n",
              "      <th>...</th>\n",
              "      <td>...</td>\n",
              "      <td>...</td>\n",
              "      <td>...</td>\n",
              "    </tr>\n",
              "    <tr>\n",
              "      <th>7915</th>\n",
              "      <td>7916</td>\n",
              "      <td>0</td>\n",
              "      <td>Live out loud #lol #liveoutloud #selfie #smile...</td>\n",
              "    </tr>\n",
              "    <tr>\n",
              "      <th>7916</th>\n",
              "      <td>7917</td>\n",
              "      <td>0</td>\n",
              "      <td>We would like to wish you an amazing day! Make...</td>\n",
              "    </tr>\n",
              "    <tr>\n",
              "      <th>7917</th>\n",
              "      <td>7918</td>\n",
              "      <td>0</td>\n",
              "      <td>Helping my lovely 90 year old neighbor with he...</td>\n",
              "    </tr>\n",
              "    <tr>\n",
              "      <th>7918</th>\n",
              "      <td>7919</td>\n",
              "      <td>0</td>\n",
              "      <td>Finally got my #smart #pocket #wifi stay conne...</td>\n",
              "    </tr>\n",
              "    <tr>\n",
              "      <th>7919</th>\n",
              "      <td>7920</td>\n",
              "      <td>0</td>\n",
              "      <td>Apple Barcelona!!! #Apple #Store #BCN #Barcelo...</td>\n",
              "    </tr>\n",
              "  </tbody>\n",
              "</table>\n",
              "<p>7920 rows × 3 columns</p>\n",
              "</div>\n",
              "    <div class=\"colab-df-buttons\">\n",
              "\n",
              "  <div class=\"colab-df-container\">\n",
              "    <button class=\"colab-df-convert\" onclick=\"convertToInteractive('df-2e9e7965-4d92-4492-9483-c37b2175a79d')\"\n",
              "            title=\"Convert this dataframe to an interactive table.\"\n",
              "            style=\"display:none;\">\n",
              "\n",
              "  <svg xmlns=\"http://www.w3.org/2000/svg\" height=\"24px\" viewBox=\"0 -960 960 960\">\n",
              "    <path d=\"M120-120v-720h720v720H120Zm60-500h600v-160H180v160Zm220 220h160v-160H400v160Zm0 220h160v-160H400v160ZM180-400h160v-160H180v160Zm440 0h160v-160H620v160ZM180-180h160v-160H180v160Zm440 0h160v-160H620v160Z\"/>\n",
              "  </svg>\n",
              "    </button>\n",
              "\n",
              "  <style>\n",
              "    .colab-df-container {\n",
              "      display:flex;\n",
              "      gap: 12px;\n",
              "    }\n",
              "\n",
              "    .colab-df-convert {\n",
              "      background-color: #E8F0FE;\n",
              "      border: none;\n",
              "      border-radius: 50%;\n",
              "      cursor: pointer;\n",
              "      display: none;\n",
              "      fill: #1967D2;\n",
              "      height: 32px;\n",
              "      padding: 0 0 0 0;\n",
              "      width: 32px;\n",
              "    }\n",
              "\n",
              "    .colab-df-convert:hover {\n",
              "      background-color: #E2EBFA;\n",
              "      box-shadow: 0px 1px 2px rgba(60, 64, 67, 0.3), 0px 1px 3px 1px rgba(60, 64, 67, 0.15);\n",
              "      fill: #174EA6;\n",
              "    }\n",
              "\n",
              "    .colab-df-buttons div {\n",
              "      margin-bottom: 4px;\n",
              "    }\n",
              "\n",
              "    [theme=dark] .colab-df-convert {\n",
              "      background-color: #3B4455;\n",
              "      fill: #D2E3FC;\n",
              "    }\n",
              "\n",
              "    [theme=dark] .colab-df-convert:hover {\n",
              "      background-color: #434B5C;\n",
              "      box-shadow: 0px 1px 3px 1px rgba(0, 0, 0, 0.15);\n",
              "      filter: drop-shadow(0px 1px 2px rgba(0, 0, 0, 0.3));\n",
              "      fill: #FFFFFF;\n",
              "    }\n",
              "  </style>\n",
              "\n",
              "    <script>\n",
              "      const buttonEl =\n",
              "        document.querySelector('#df-2e9e7965-4d92-4492-9483-c37b2175a79d button.colab-df-convert');\n",
              "      buttonEl.style.display =\n",
              "        google.colab.kernel.accessAllowed ? 'block' : 'none';\n",
              "\n",
              "      async function convertToInteractive(key) {\n",
              "        const element = document.querySelector('#df-2e9e7965-4d92-4492-9483-c37b2175a79d');\n",
              "        const dataTable =\n",
              "          await google.colab.kernel.invokeFunction('convertToInteractive',\n",
              "                                                    [key], {});\n",
              "        if (!dataTable) return;\n",
              "\n",
              "        const docLinkHtml = 'Like what you see? Visit the ' +\n",
              "          '<a target=\"_blank\" href=https://colab.research.google.com/notebooks/data_table.ipynb>data table notebook</a>'\n",
              "          + ' to learn more about interactive tables.';\n",
              "        element.innerHTML = '';\n",
              "        dataTable['output_type'] = 'display_data';\n",
              "        await google.colab.output.renderOutput(dataTable, element);\n",
              "        const docLink = document.createElement('div');\n",
              "        docLink.innerHTML = docLinkHtml;\n",
              "        element.appendChild(docLink);\n",
              "      }\n",
              "    </script>\n",
              "  </div>\n",
              "\n",
              "\n",
              "<div id=\"df-5febb8a4-f9e4-4d1a-9564-a4b17ab426e0\">\n",
              "  <button class=\"colab-df-quickchart\" onclick=\"quickchart('df-5febb8a4-f9e4-4d1a-9564-a4b17ab426e0')\"\n",
              "            title=\"Suggest charts\"\n",
              "            style=\"display:none;\">\n",
              "\n",
              "<svg xmlns=\"http://www.w3.org/2000/svg\" height=\"24px\"viewBox=\"0 0 24 24\"\n",
              "     width=\"24px\">\n",
              "    <g>\n",
              "        <path d=\"M19 3H5c-1.1 0-2 .9-2 2v14c0 1.1.9 2 2 2h14c1.1 0 2-.9 2-2V5c0-1.1-.9-2-2-2zM9 17H7v-7h2v7zm4 0h-2V7h2v10zm4 0h-2v-4h2v4z\"/>\n",
              "    </g>\n",
              "</svg>\n",
              "  </button>\n",
              "\n",
              "<style>\n",
              "  .colab-df-quickchart {\n",
              "      --bg-color: #E8F0FE;\n",
              "      --fill-color: #1967D2;\n",
              "      --hover-bg-color: #E2EBFA;\n",
              "      --hover-fill-color: #174EA6;\n",
              "      --disabled-fill-color: #AAA;\n",
              "      --disabled-bg-color: #DDD;\n",
              "  }\n",
              "\n",
              "  [theme=dark] .colab-df-quickchart {\n",
              "      --bg-color: #3B4455;\n",
              "      --fill-color: #D2E3FC;\n",
              "      --hover-bg-color: #434B5C;\n",
              "      --hover-fill-color: #FFFFFF;\n",
              "      --disabled-bg-color: #3B4455;\n",
              "      --disabled-fill-color: #666;\n",
              "  }\n",
              "\n",
              "  .colab-df-quickchart {\n",
              "    background-color: var(--bg-color);\n",
              "    border: none;\n",
              "    border-radius: 50%;\n",
              "    cursor: pointer;\n",
              "    display: none;\n",
              "    fill: var(--fill-color);\n",
              "    height: 32px;\n",
              "    padding: 0;\n",
              "    width: 32px;\n",
              "  }\n",
              "\n",
              "  .colab-df-quickchart:hover {\n",
              "    background-color: var(--hover-bg-color);\n",
              "    box-shadow: 0 1px 2px rgba(60, 64, 67, 0.3), 0 1px 3px 1px rgba(60, 64, 67, 0.15);\n",
              "    fill: var(--button-hover-fill-color);\n",
              "  }\n",
              "\n",
              "  .colab-df-quickchart-complete:disabled,\n",
              "  .colab-df-quickchart-complete:disabled:hover {\n",
              "    background-color: var(--disabled-bg-color);\n",
              "    fill: var(--disabled-fill-color);\n",
              "    box-shadow: none;\n",
              "  }\n",
              "\n",
              "  .colab-df-spinner {\n",
              "    border: 2px solid var(--fill-color);\n",
              "    border-color: transparent;\n",
              "    border-bottom-color: var(--fill-color);\n",
              "    animation:\n",
              "      spin 1s steps(1) infinite;\n",
              "  }\n",
              "\n",
              "  @keyframes spin {\n",
              "    0% {\n",
              "      border-color: transparent;\n",
              "      border-bottom-color: var(--fill-color);\n",
              "      border-left-color: var(--fill-color);\n",
              "    }\n",
              "    20% {\n",
              "      border-color: transparent;\n",
              "      border-left-color: var(--fill-color);\n",
              "      border-top-color: var(--fill-color);\n",
              "    }\n",
              "    30% {\n",
              "      border-color: transparent;\n",
              "      border-left-color: var(--fill-color);\n",
              "      border-top-color: var(--fill-color);\n",
              "      border-right-color: var(--fill-color);\n",
              "    }\n",
              "    40% {\n",
              "      border-color: transparent;\n",
              "      border-right-color: var(--fill-color);\n",
              "      border-top-color: var(--fill-color);\n",
              "    }\n",
              "    60% {\n",
              "      border-color: transparent;\n",
              "      border-right-color: var(--fill-color);\n",
              "    }\n",
              "    80% {\n",
              "      border-color: transparent;\n",
              "      border-right-color: var(--fill-color);\n",
              "      border-bottom-color: var(--fill-color);\n",
              "    }\n",
              "    90% {\n",
              "      border-color: transparent;\n",
              "      border-bottom-color: var(--fill-color);\n",
              "    }\n",
              "  }\n",
              "</style>\n",
              "\n",
              "  <script>\n",
              "    async function quickchart(key) {\n",
              "      const quickchartButtonEl =\n",
              "        document.querySelector('#' + key + ' button');\n",
              "      quickchartButtonEl.disabled = true;  // To prevent multiple clicks.\n",
              "      quickchartButtonEl.classList.add('colab-df-spinner');\n",
              "      try {\n",
              "        const charts = await google.colab.kernel.invokeFunction(\n",
              "            'suggestCharts', [key], {});\n",
              "      } catch (error) {\n",
              "        console.error('Error during call to suggestCharts:', error);\n",
              "      }\n",
              "      quickchartButtonEl.classList.remove('colab-df-spinner');\n",
              "      quickchartButtonEl.classList.add('colab-df-quickchart-complete');\n",
              "    }\n",
              "    (() => {\n",
              "      let quickchartButtonEl =\n",
              "        document.querySelector('#df-5febb8a4-f9e4-4d1a-9564-a4b17ab426e0 button');\n",
              "      quickchartButtonEl.style.display =\n",
              "        google.colab.kernel.accessAllowed ? 'block' : 'none';\n",
              "    })();\n",
              "  </script>\n",
              "</div>\n",
              "    </div>\n",
              "  </div>\n"
            ],
            "text/plain": [
              "        id  label                                              tweet\n",
              "0        1      0  #fingerprint #Pregnancy Test https://goo.gl/h1...\n",
              "1        2      0  Finally a transparant silicon case ^^ Thanks t...\n",
              "2        3      0  We love this! Would you go? #talk #makememorie...\n",
              "3        4      0  I'm wired I know I'm George I was made that wa...\n",
              "4        5      1  What amazing service! Apple won't even talk to...\n",
              "...    ...    ...                                                ...\n",
              "7915  7916      0  Live out loud #lol #liveoutloud #selfie #smile...\n",
              "7916  7917      0  We would like to wish you an amazing day! Make...\n",
              "7917  7918      0  Helping my lovely 90 year old neighbor with he...\n",
              "7918  7919      0  Finally got my #smart #pocket #wifi stay conne...\n",
              "7919  7920      0  Apple Barcelona!!! #Apple #Store #BCN #Barcelo...\n",
              "\n",
              "[7920 rows x 3 columns]"
            ]
          },
          "execution_count": 141,
          "metadata": {},
          "output_type": "execute_result"
        }
      ],
      "source": [
        "tweets_data= pd.read_csv(\"data/sentiment_analysis.csv\")\n",
        "tweets_data"
      ]
    },
    {
      "cell_type": "code",
      "execution_count": 142,
      "metadata": {
        "colab": {
          "base_uri": "https://localhost:8080/",
          "height": 0
        },
        "id": "5qtO9NAUwQ6P",
        "outputId": "e384b188-c63d-4187-93ae-13ce2241463e"
      },
      "outputs": [
        {
          "name": "stdout",
          "output_type": "stream",
          "text": [
            "<class 'pandas.core.frame.DataFrame'>\n",
            "RangeIndex: 7920 entries, 0 to 7919\n",
            "Data columns (total 3 columns):\n",
            " #   Column  Non-Null Count  Dtype \n",
            "---  ------  --------------  ----- \n",
            " 0   id      7920 non-null   int64 \n",
            " 1   label   7920 non-null   int64 \n",
            " 2   tweet   7920 non-null   object\n",
            "dtypes: int64(2), object(1)\n",
            "memory usage: 185.8+ KB\n"
          ]
        }
      ],
      "source": [
        "tweets_data.info()"
      ]
    },
    {
      "cell_type": "markdown",
      "metadata": {
        "id": "33lyChvQw0nD"
      },
      "source": [
        "## Useful plots for EDA"
      ]
    },
    {
      "cell_type": "code",
      "execution_count": 143,
      "metadata": {
        "colab": {
          "base_uri": "https://localhost:8080/",
          "height": 564
        },
        "id": "uZwfF2Uqw0nD",
        "outputId": "b422c5d9-f7ef-4544-e80f-62dc3b9f44da"
      },
      "outputs": [
        {
          "data": {
            "image/png": "[encoded data removed]",
            "text/plain": [
              "<Figure size 1200x600 with 1 Axes>"
            ]
          },
          "metadata": {},
          "output_type": "display_data"
        }
      ],
      "source": [
        "\n",
        "\n",
        "# Plot the distribution of tweet lengths\n",
        "tweet_lengths = tweets_data['tweet'].str.len()\n",
        "plt.figure(figsize=(12, 6))\n",
        "sns.histplot(tweet_lengths, bins=30, kde=True)\n",
        "plt.title('Distribution of Tweet Lengths')\n",
        "plt.xlabel('Length of Tweet')\n",
        "plt.ylabel('Frequency')\n",
        "plt.show()\n",
        "\n",
        "\n",
        "\n",
        "\n",
        "\n"
      ]
    },
    {
      "cell_type": "code",
      "execution_count": 144,
      "metadata": {
        "colab": {
          "base_uri": "https://localhost:8080/",
          "height": 410
        },
        "id": "HOgPzF5Sw0nE",
        "outputId": "f27a7e33-24b1-4ebc-f5a1-1ccaadbc25c3"
      },
      "outputs": [
        {
          "data": {
            "image/png": "[encoded data removed]",
            "text/plain": [
              "<Figure size 600x400 with 1 Axes>"
            ]
          },
          "metadata": {},
          "output_type": "display_data"
        }
      ],
      "source": [
        "# Plot the distribution of labels (sentiments)\n",
        "plt.figure(figsize=(6, 4))\n",
        "sns.countplot(x='label', data=tweets_data)\n",
        "plt.title('Distribution of Sentiments')\n",
        "plt.xlabel('Sentiment Label')\n",
        "plt.ylabel('Count')\n",
        "plt.show()"
      ]
    },
    {
      "cell_type": "markdown",
      "metadata": {
        "id": "APs5Izk8w0nF"
      },
      "source": [
        "### Downsampling the data for balanced classes"
      ]
    },
    {
      "cell_type": "code",
      "execution_count": 145,
      "metadata": {
        "colab": {
          "base_uri": "https://localhost:8080/",
          "height": 0
        },
        "id": "leIWI1nOw0nG",
        "outputId": "7f2fa717-45c5-4b3b-d239-2e7e30033a34"
      },
      "outputs": [
        {
          "name": "stdout",
          "output_type": "stream",
          "text": [
            "<class 'pandas.core.frame.DataFrame'>\n",
            "RangeIndex: 4052 entries, 0 to 4051\n",
            "Data columns (total 3 columns):\n",
            " #   Column  Non-Null Count  Dtype \n",
            "---  ------  --------------  ----- \n",
            " 0   id      4052 non-null   int64 \n",
            " 1   label   4052 non-null   int64 \n",
            " 2   tweet   4052 non-null   object\n",
            "dtypes: int64(2), object(1)\n",
            "memory usage: 95.1+ KB\n"
          ]
        }
      ],
      "source": [
        "\n",
        "def balance_dataframe(df, label_column):\n",
        "    \"\"\"\n",
        "    Balance the DataFrame by undersampling the majority class.\n",
        "\n",
        "    Parameters:\n",
        "    df (pd.DataFrame): The DataFrame to balance.\n",
        "    label_column (str): The name of the column containing the class labels.\n",
        "\n",
        "    Returns:\n",
        "    pd.DataFrame: A balanced DataFrame.\n",
        "    \"\"\"\n",
        "    # Calculate the counts of each class\n",
        "    class_counts = df[label_column].value_counts()\n",
        "\n",
        "    # Find the count of the minority class\n",
        "    min_class_count = class_counts.min()\n",
        "\n",
        "    # Create a list to store the DataFrame slices\n",
        "    df_slices = []\n",
        "\n",
        "    for class_label in class_counts.index:\n",
        "        df_class = df[df[label_column] == class_label]\n",
        "        df_class_sampled = df_class.sample(min_class_count, random_state=42)\n",
        "        df_slices.append(df_class_sampled)\n",
        "\n",
        "    # Concatenate the downsampled DataFrames\n",
        "    balanced_df = pd.concat(df_slices)\n",
        "\n",
        "    # Shuffle the DataFrame\n",
        "    balanced_df = balanced_df.sample(frac=1, random_state=42).reset_index(drop=True)\n",
        "\n",
        "    return balanced_df\n",
        "\n",
        "tweets_data=balance_dataframe(tweets_data,'label')\n",
        "tweets_data.info()"
      ]
    },
    {
      "cell_type": "code",
      "execution_count": 146,
      "metadata": {
        "colab": {
          "base_uri": "https://localhost:8080/",
          "height": 410
        },
        "id": "i1hmlquWw0nH",
        "outputId": "c8e8af42-aafe-482c-cbb1-350dbcef9505"
      },
      "outputs": [
        {
          "data": {
            "image/png": "[encoded data removed]",
            "text/plain": [
              "<Figure size 600x400 with 1 Axes>"
            ]
          },
          "metadata": {},
          "output_type": "display_data"
        }
      ],
      "source": [
        "# Plot the distribution of the balanced  labels (sentiments)\n",
        "plt.figure(figsize=(6, 4))\n",
        "sns.countplot(x='label', data=tweets_data)\n",
        "plt.title('Distribution of Sentiments')\n",
        "plt.xlabel('Sentiment Label')\n",
        "plt.ylabel('Count')\n",
        "plt.show()"
      ]
    },
    {
      "cell_type": "code",
      "execution_count": 147,
      "metadata": {
        "colab": {
          "base_uri": "https://localhost:8080/",
          "height": 564
        },
        "id": "kIiNZRHew0nI",
        "outputId": "25df0b45-ef3a-4730-f1a0-77d6ef1d439c"
      },
      "outputs": [
        {
          "data": {
            "image/png": "[encoded data removed]",
            "text/plain": [
              "<Figure size 1200x600 with 1 Axes>"
            ]
          },
          "metadata": {},
          "output_type": "display_data"
        }
      ],
      "source": [
        "#Sentiment distribution by tweet length\n",
        "df2=pd.DataFrame()\n",
        "df2['tweet_length'] = tweets_data['tweet'].str.len()\n",
        "df2['label']=tweets_data['label']\n",
        "plt.figure(figsize=(12, 6))\n",
        "sns.boxplot(x='label', y='tweet_length', data=df2)\n",
        "plt.title('Tweet Length Distribution by Sentiment')\n",
        "plt.xlabel('Sentiment Label (0: Negative, 1: Positive)')\n",
        "plt.ylabel('Tweet Length')\n",
        "plt.show()"
      ]
    },
    {
      "cell_type": "code",
      "execution_count": 148,
      "metadata": {
        "colab": {
          "base_uri": "https://localhost:8080/",
          "height": 564
        },
        "id": "3tJ4alNiw0nI",
        "outputId": "a8171d2c-8702-44bf-eeb6-0d37bb9b7a0c"
      },
      "outputs": [
        {
          "data": {
            "image/png": "[encoded data removed]",
            "text/plain": [
              "<Figure size 1200x600 with 1 Axes>"
            ]
          },
          "metadata": {},
          "output_type": "display_data"
        }
      ],
      "source": [
        "\n",
        "# Plot the distribution of the number of words in each tweet\n",
        "df2['word_count'] = tweets_data['tweet'].apply(lambda x: len(x.split()))\n",
        "plt.figure(figsize=(12, 6))\n",
        "sns.histplot(df2['word_count'], bins=30, kde=True, color='skyblue')\n",
        "plt.title('Distribution of Word Count in Tweets')\n",
        "plt.xlabel('Word Count')\n",
        "plt.ylabel('Frequency')\n",
        "plt.show()\n",
        "\n"
      ]
    },
    {
      "cell_type": "code",
      "execution_count": 149,
      "metadata": {
        "colab": {
          "base_uri": "https://localhost:8080/",
          "height": 564
        },
        "id": "4HgVCwMSw0nJ",
        "outputId": "67598456-93ab-4261-de4a-748b92e43c4d"
      },
      "outputs": [
        {
          "data": {
            "image/png": "[encoded data removed]",
            "text/plain": [
              "<Figure size 1200x600 with 1 Axes>"
            ]
          },
          "metadata": {},
          "output_type": "display_data"
        }
      ],
      "source": [
        "\n",
        "# Plot the number of unique words in each tweet\n",
        "df2['unique_word_count'] = tweets_data['tweet'].apply(lambda x: len(set(x.split())))\n",
        "plt.figure(figsize=(12, 6))\n",
        "sns.histplot(df2['unique_word_count'], bins=30, kde=True, color='purple')\n",
        "plt.title('Distribution of Unique Word Count in Tweets')\n",
        "plt.xlabel('Unique Word Count')\n",
        "plt.ylabel('Frequency')\n",
        "plt.show()"
      ]
    },
    {
      "cell_type": "code",
      "execution_count": 150,
      "metadata": {
        "colab": {
          "base_uri": "https://localhost:8080/",
          "height": 564
        },
        "id": "3uQNyiapw0nK",
        "outputId": "a12b72c6-70c1-46d0-daf1-525fed78006e"
      },
      "outputs": [
        {
          "data": {
            "image/png": "[encoded data removed]",
            "text/plain": [
              "<Figure size 1200x600 with 1 Axes>"
            ]
          },
          "metadata": {},
          "output_type": "display_data"
        }
      ],
      "source": [
        "\n",
        "# Plot the average word length in each tweet\n",
        "df2['avg_word_length'] = tweets_data['tweet'].apply(lambda x: np.mean([len(word) for word in x.split()]) if x.split() else 0)\n",
        "plt.figure(figsize=(12, 6))\n",
        "sns.histplot(df2['avg_word_length'], bins=30, kde=True, color='orange')\n",
        "plt.title('Distribution of Average Word Length in Tweets')\n",
        "plt.xlabel('Average Word Length')\n",
        "plt.ylabel('Frequency')\n",
        "plt.show()"
      ]
    },
    {
      "cell_type": "code",
      "execution_count": 151,
      "metadata": {
        "colab": {
          "base_uri": "https://localhost:8080/",
          "height": 819
        },
        "id": "o9wHQQlrw0nL",
        "outputId": "baad3f16-35c9-4a17-ae24-00951c5640da"
      },
      "outputs": [
        {
          "data": {
            "image/png": "[encoded data removed]",
            "text/plain": [
              "<Figure size 1000x800 with 2 Axes>"
            ]
          },
          "metadata": {},
          "output_type": "display_data"
        }
      ],
      "source": [
        "\n",
        "\n",
        "# Correlation heatmap between numerical features\n",
        "plt.figure(figsize=(10, 8))\n",
        "sns.heatmap(df2[['word_count', 'unique_word_count', 'avg_word_length', 'tweet_length', 'label']].corr(), annot=True, fmt=\".2f\")\n",
        "plt.title('Correlation Heatmap of Numerical Features')\n",
        "plt.show()"
      ]
    },
    {
      "cell_type": "markdown",
      "metadata": {
        "id": "uVOaR5Dyyvoh"
      },
      "source": [
        "## Split the Data into Training and Testing :"
      ]
    },
    {
      "cell_type": "code",
      "execution_count": 152,
      "metadata": {
        "id": "lbUPF8Dow0nN"
      },
      "outputs": [],
      "source": [
        "\n",
        "def data_split(data, target_column, test_size=0.2, random_state=42):\n",
        "  \"\"\"\n",
        "    Splits the provided dataset into training and testing sets.\n",
        "\n",
        "    Args:\n",
        "        data (pd.DataFrame): The dataset to be split, containing both features and the target column.\n",
        "        target_column (str): The name of the column in the dataset that serves as the target variable.\n",
        "                             This column should contain binary (0s and 1s) and categorical data.\n",
        "        test_size (float, optional): The proportion of the dataset to include in the test split. It should be between 0.0 and 1.0.\n",
        "                                     Default is 0.2.\n",
        "        random_state (int, optional): A random state seed for reproducibility of the split. Default is 42.\n",
        "\n",
        "    Returns:\n",
        "        tuple: A tuple containing four elements:\n",
        "            X_train (np.ndarray): The training set features.\n",
        "            X_test (np.ndarray): The testing set features.\n",
        "            y_train (np.ndarray): The training set target variable, reshaped as a two-dimensional array.\n",
        "            y_test (np.ndarray): The testing set target variable, reshaped as a two-dimensional array.\n",
        "\n",
        "    Notes:\n",
        "        - The function assumes that the target variable is already encoded as binary and categorical.\n",
        "        - The 'id' column is expected to be present in the data and is dropped from the features before splitting.\n",
        "        - The function uses `train_test_split` from `sklearn.model_selection` for splitting data.\n",
        "\n",
        "  \"\"\"\n",
        "  # Assuming target is already binary (0s and 1s) and categorical\n",
        "  target = data[target_column]\n",
        "\n",
        "  # Drop the original target column and 'id' column from the features\n",
        "  features = data.drop(columns=[target_column, 'id'])\n",
        "\n",
        "  # Split the data into training and testing sets\n",
        "  X_train, X_test, y_train, y_test = train_test_split(features, target, test_size=test_size, random_state=random_state)\n",
        " # Convert target variables to NumPy arrays and reshape them\n",
        "\n",
        "  y_train =list( y_train)\n",
        "  y_test = list(y_test)\n",
        "\n",
        "  # Convert feature variables to NumPy arrays\n",
        "  X_train = list(X_train.to_numpy().squeeze())\n",
        "  X_test = list(X_test.to_numpy().squeeze())\n",
        "\n",
        "  return X_train, X_test, y_train, y_test\n",
        "\n",
        "\n",
        "\n",
        "train_x, test_x, train_y, test_y = data_split(tweets_data,'label')"
      ]
    },
    {
      "cell_type": "markdown",
      "metadata": {
        "id": "VcmMT74kjMW_"
      },
      "source": [
        "<a name='1'></a>\n",
        "## 1 - Process the Data\n",
        "\n",
        "For any machine learning project, once we've gathered the data, the first step is to process it to make useful inputs to your model.\n",
        "- **Remove noise**: We will first want to remove noise from your data -- that is, remove words that don't tell you much about the content. These include all common words like 'I, you, are, is, etc...' that would not give us enough information on the sentiment.\n",
        "- We'll also remove stock market tickers, retweet symbols, hyperlinks, and hashtags because they can not tell you a lot of information on the sentiment.\n",
        "- We also want to remove all the punctuation from a tweet. The reason for doing this is because we want to treat words with or without the punctuation as the same word, instead of treating \"happy\", \"happy?\", \"happy!\", \"happy,\" and \"happy.\" as different words.\n",
        "- Finally We want to use stemming to only keep track of one variation of each word. In other words, we'll treat \"motivation\", \"motivated\", and \"motivate\" similarly by grouping them within the same stem of \"motiv-\".\n",
        "\n",
        "The function `process_tweet` defined below does the pervious explained instructions."
      ]
    },
    {
      "cell_type": "code",
      "execution_count": 153,
      "metadata": {
        "colab": {
          "base_uri": "https://localhost:8080/",
          "height": 0
        },
        "id": "RMyAyezzjMW_",
        "outputId": "2abdebcd-0a8b-4382-ceb6-8952474905a2"
      },
      "outputs": [
        {
          "name": "stdout",
          "output_type": "stream",
          "text": [
            "['hello', 'great', 'day', ':)', 'good', 'morn']\n"
          ]
        }
      ],
      "source": [
        "\n",
        "\n",
        "def process_tweet(tweet):\n",
        "    \"\"\"Process tweet function.\n",
        "    Input:\n",
        "        tweet: a string containing a tweet\n",
        "    Output:\n",
        "        tweets_clean: a list of words containing the processed tweet\n",
        "\n",
        "    \"\"\"\n",
        "    stemmer = PorterStemmer()\n",
        "    stopwords_english = stopwords.words('english')\n",
        "    # remove stock market tickers like $GE\n",
        "    tweet = re.sub(r'\\$\\w*', '', tweet)\n",
        "    # remove old style retweet text \"RT\"\n",
        "    tweet = re.sub(r'^RT[\\s]+', '', tweet)\n",
        "    # remove hyperlinks\n",
        "    tweet = re.sub(r'https?://[^\\s\\n\\r]+', '', tweet)\n",
        "    # remove hashtags\n",
        "    # only removing the hash # sign from the word\n",
        "    tweet = re.sub(r'#', '', tweet)\n",
        "    # tokenize tweets\n",
        "    tokenizer = TweetTokenizer(preserve_case=False, strip_handles=True,\n",
        "                               reduce_len=True)\n",
        "    tweet_tokens = tokenizer.tokenize(tweet)\n",
        "\n",
        "    tweets_clean = []\n",
        "    for word in tweet_tokens:\n",
        "        if (word not in stopwords_english and  # remove stopwords\n",
        "                word not in string.punctuation):  # remove punctuation\n",
        "\n",
        "            stem_word = stemmer.stem(word)  # stemming word\n",
        "            tweets_clean.append(stem_word)\n",
        "\n",
        "    return tweets_clean\n",
        "\n",
        "\n",
        "# Example tweet\n",
        "custom_tweet = \"RT @Twitter @chapagain Hello There! Have a great day. :) #good #morning http://website.com.np\"\n",
        "\n",
        "# print cleaned tweet\n",
        "print(process_tweet(custom_tweet))"
      ]
    },
    {
      "cell_type": "markdown",
      "metadata": {
        "id": "qnMSBcTwjMXA"
      },
      "source": [
        "<a name='1-1'></a>\n",
        "### 1.1 - Implementing of Helper Functions to count tweets\n",
        "\n",
        "To train the naive bayes model, we will need to compute a dictionary where the keys are a tuple (word, label) and the values are the corresponding frequency.  Note that the labels we'll use here are 1 for positive and 0 for negative.\n",
        "\n",
        "we will also implement a `lookup` helper function that takes in the `freqs` dictionary, a word, and a label (1 or 0) and returns the number of times that word and label tuple appears in the collection of tweets.\n",
        "\n",
        "For example: given a list of tweets `[\"i am rather excited\", \"you are rather happy\"]` and the label 1, the function will return a dictionary that contains the following key-value pairs:\n",
        "\n",
        "{\n",
        "    (\"rather\", 1): 2,\n",
        "    (\"happi\", 1) : 1,\n",
        "    (\"excit\", 1) : 1\n",
        "}\n",
        "\n",
        "**Note:**\n",
        "\n",
        "- Notice how for each word in the given string, the same label 1 is assigned to each word.\n",
        "- Notice how the words \"i\" and \"am\" are not saved, since it was removed by process_tweet because it is a stopword.\n",
        "- Notice how the word \"rather\" appears twice in the list of tweets, and so its count value is 2.\n"
      ]
    },
    {
      "cell_type": "code",
      "execution_count": 154,
      "metadata": {
        "id": "y08xmb6GjMXA"
      },
      "outputs": [],
      "source": [
        "\n",
        "\n",
        "def count_tweets(result, tweets, ys):\n",
        "    '''\n",
        "    Input:\n",
        "        result: a dictionary that will be used to map each pair to its frequency\n",
        "        tweets: a list of tweets\n",
        "        ys: a list corresponding to the sentiment of each tweet (either 0 or 1)\n",
        "    Output:\n",
        "        result: a dictionary mapping each pair to its frequency\n",
        "    '''\n",
        "\n",
        "    for y, tweet in zip(ys, tweets):\n",
        "        for word in process_tweet(tweet):\n",
        "            # define the key, which is the word and label tuple\n",
        "            pair = (word,y)\n",
        "\n",
        "            # if the key exists in the dictionary, increment the count\n",
        "            if pair in result:\n",
        "                result[pair] += 1\n",
        "\n",
        "            # else, if the key is new, add it to the dictionary and set the count to 1\n",
        "            else:\n",
        "                result[pair] = 1\n",
        "\n",
        "    return result"
      ]
    },
    {
      "cell_type": "code",
      "execution_count": 155,
      "metadata": {
        "id": "g-dm5BBKs4qc"
      },
      "outputs": [],
      "source": [
        "def lookup(freqs, word, label):\n",
        "    '''\n",
        "    Input:\n",
        "        freqs: a dictionary with the frequency of each pair (or tuple)\n",
        "        word: the word to look up\n",
        "        label: the label corresponding to the word\n",
        "    Output:\n",
        "        n: the number of times the word with its corresponding label appears.\n",
        "    '''\n",
        "    n = 0  # freqs.get((word, label), 0)\n",
        "\n",
        "    pair = (word, label)\n",
        "    if (pair in freqs):\n",
        "        n = freqs[pair]\n",
        "\n",
        "    return n"
      ]
    },
    {
      "cell_type": "code",
      "execution_count": 156,
      "metadata": {
        "colab": {
          "base_uri": "https://localhost:8080/",
          "height": 0
        },
        "id": "4dT9UL1-jMXB",
        "outputId": "4091ba78-271d-461f-9f25-d2fb1706fdf0"
      },
      "outputs": [
        {
          "data": {
            "text/plain": [
              "{('happi', 1): 1, ('trick', 0): 1, ('sad', 0): 1, ('tire', 0): 2}"
            ]
          },
          "execution_count": 156,
          "metadata": {},
          "output_type": "execute_result"
        }
      ],
      "source": [
        "# Testing the function with example\n",
        "\n",
        "result = {}\n",
        "tweets = ['i am happy', 'i am tricked', 'i am sad', 'i am tired', 'i am tired']\n",
        "ys = [1, 0, 0, 0, 0]\n",
        "count_tweets(result, tweets, ys)"
      ]
    },
    {
      "cell_type": "markdown",
      "metadata": {
        "id": "Wb4AcxUYjMXC"
      },
      "source": [
        "\n",
        "## 2 - Train The Model using Naive Bayes\n",
        "\n",
        "Naive bayes is an algorithm that could be used for sentiment analysis. It takes a short time to train and also has a short prediction time.\n",
        "\n",
        "#### So how do we train a Naive Bayes classifier?\n",
        "- The first part of training a naive bayes classifier is to identify the number of classes that we have.\n",
        "- we will create a probability for each class.\n",
        "$P(D_{pos})$ is the probability that the document is positive.\n",
        "$P(D_{neg})$ is the probability that the document is negative.\n",
        "Use the formulas as follows and store the values in a dictionary:\n",
        "\n",
        "$$P(D_{pos}) = \\frac{D_{pos}}{D}\\tag{1}$$\n",
        "\n",
        "$$P(D_{neg}) = \\frac{D_{neg}}{D}\\tag{2}$$\n",
        "\n",
        "Where $D$ is the total number of documents, or tweets in this case, $D_{pos}$ is the total number of positive tweets and $D_{neg}$ is the total number of negative tweets."
      ]
    },
    {
      "cell_type": "markdown",
      "metadata": {
        "id": "Qbf0gdq_jMXC"
      },
      "source": [
        "#### Prior and Logprior\n",
        "\n",
        "The prior probability represents the underlying probability in the target population that a tweet is positive versus negative.  In other words, if we had no specific information and blindly picked a tweet out of the population set, what is the probability that it will be positive versus that it will be negative? That is the \"prior\".\n",
        "\n",
        "The prior is the ratio of the probabilities $\\frac{P(D_{pos})}{P(D_{neg})}$.\n",
        "We can take the log of the prior to rescale it, and we'll call this the logprior\n",
        "\n",
        "$$\\text{logprior} = log \\left( \\frac{P(D_{pos})}{P(D_{neg})} \\right) = log \\left( \\frac{D_{pos}}{D_{neg}} \\right)$$.\n",
        "\n",
        "Note that $log(\\frac{A}{B})$ is the same as $log(A) - log(B)$.  So the logprior can also be calculated as the difference between two logs:\n",
        "\n",
        "\n",
        "$$\\text{logprior} = \\log (P(D_{pos})) - \\log (P(D_{neg})) = \\log (D_{pos}) - \\log (D_{neg})\\tag{3}$$"
      ]
    },
    {
      "cell_type": "markdown",
      "metadata": {
        "id": "GvuxuoKtjMXC"
      },
      "source": [
        "#### Positive and Negative Probability of a Word\n",
        "To compute the positive probability and the negative probability for a specific word in the vocabulary, we'll use the following inputs:\n",
        "\n",
        "- $freq_{pos}$ and $freq_{neg}$ are the frequencies of that specific word in the positive or negative class. In other words, the positive frequency of a word is the number of times the word is counted with the label of 1.\n",
        "- $N_{pos}$ and $N_{neg}$ are the total number of positive and negative words for all documents (for all tweets), respectively.\n",
        "- $V$ is the number of unique words in the entire set of documents, for all classes, whether positive or negative.\n",
        "\n",
        "We'll use these to compute the positive and negative probability for a specific word using this formula:\n",
        "\n",
        "$$ P(W_{pos}) = \\frac{freq_{pos} + 1}{N_{pos} + V}\\tag{4} $$\n",
        "$$ P(W_{neg}) = \\frac{freq_{neg} + 1}{N_{neg} + V}\\tag{5} $$\n",
        "\n",
        "Notice that we add the \"+1\" in the numerator for additive smoothing.  This [ article](https://en.wikipedia.org/wiki/Additive_smoothing) explains more about additive smoothing."
      ]
    },
    {
      "cell_type": "markdown",
      "metadata": {
        "id": "qNWDxnVgjMXC"
      },
      "source": [
        "#### Log likelihood\n",
        "To compute the loglikelihood of that very same word, we can implement the following equations for Log-Likelihood :\n",
        "\n",
        "$$\\text{loglikelihood} = \\log \\left(\\frac{P(W_{pos})}{P(W_{neg})} \\right)\\tag{6}$$"
      ]
    },
    {
      "cell_type": "code",
      "execution_count": 157,
      "metadata": {
        "id": "YEB7__LFjMXD"
      },
      "outputs": [],
      "source": [
        "# Build the freqs dictionary for later uses\n",
        "freqs = count_tweets({}, train_x, train_y)"
      ]
    },
    {
      "cell_type": "code",
      "execution_count": 158,
      "metadata": {
        "colab": {
          "base_uri": "https://localhost:8080/",
          "height": 0
        },
        "id": "Zn-7avIBjMXD",
        "outputId": "914ed8b5-c303-48f5-abf0-b5892bb99523"
      },
      "outputs": [
        {
          "data": {
            "text/plain": [
              "{('tri', 1): 54,\n",
              " ('speak', 1): 5,\n",
              " ('someon', 1): 19,\n",
              " ('appl', 1): 1018,\n",
              " ('sort', 1): 6,\n",
              " ('new', 1): 153,\n",
              " ('batteri', 1): 46,\n",
              " ('mac', 1): 45}"
            ]
          },
          "execution_count": 158,
          "metadata": {},
          "output_type": "execute_result"
        }
      ],
      "source": [
        "# First 8 elements of freqs dictionary\n",
        "dict(itertools.islice(freqs.items(), 8))"
      ]
    },
    {
      "cell_type": "markdown",
      "metadata": {
        "id": "Lm9i-WDZjMXD"
      },
      "source": [
        "<a name='ex-2'></a>\n",
        "### 2 - train_naive_bayes\n",
        "Given a freqs dictionary, `train_x` (a list of tweets) and a `train_y` (a list of labels for each tweet), we'll implement a naive bayes classifier.\n",
        "\n",
        "##### Calculate $V$\n",
        "- We can then compute the number of unique words that appear in the `freqs` dictionary to get the $V$ (we can use the `set` function).\n",
        "\n",
        "##### Calculate $freq_{pos}$ and $freq_{neg}$\n",
        "- Using the `freqs` dictionary, we can compute the positive and negative frequency of each word $freq_{pos}$ and $freq_{neg}$.\n",
        "\n",
        "##### Calculate $N_{pos}$, and $N_{neg}$\n",
        "- Using `freqs` dictionary, we can also compute the total number of positive words and total number of negative words $N_{pos}$ and $N_{neg}$.\n",
        "\n",
        "##### Calculate $D$, $D_{pos}$, $D_{neg}$\n",
        "- Using the `train_y` input list of labels, we'll calculate the number of documents (tweets) $D$, as well as the number of positive documents (tweets) $D_{pos}$ and number of negative documents (tweets) $D_{neg}$.\n",
        "- Calculate the probability that a document (tweet) is positive $P(D_{pos})$, and the probability that a document (tweet) is negative $P(D_{neg})$\n",
        "\n",
        "##### Calculate the logprior\n",
        "- the logprior is $log(D_{pos}) - log(D_{neg})$\n",
        "\n",
        "##### Calculate log likelihood\n",
        "- Finally, we can iterate over each word in the vocabulary, use your `lookup` function to get the positive frequencies, $freq_{pos}$, and the negative frequencies, $freq_{neg}$, for that specific word.\n",
        "- Compute the positive probability of each word $P(W_{pos})$, negative probability of each word $P(W_{neg})$ using equations 4 & 5.\n",
        "\n",
        "$$ P(W_{pos}) = \\frac{freq_{pos} + 1}{N_{pos} + V}\\tag{4} $$\n",
        "$$ P(W_{neg}) = \\frac{freq_{neg} + 1}{N_{neg} + V}\\tag{5} $$\n",
        "\n",
        "**Note:** We'll use a dictionary to store the log likelihoods for each word.  The key is the word, the value is the log likelihood of that word).\n",
        "\n",
        "- we can then compute the loglikelihood: $log \\left( \\frac{P(W_{pos})}{P(W_{neg})} \\right)$."
      ]
    },
    {
      "cell_type": "code",
      "execution_count": 159,
      "metadata": {
        "id": "ReBrGxAijMXE"
      },
      "outputs": [],
      "source": [
        "\n",
        "\n",
        "def train_naive_bayes(freqs, train_x, train_y):\n",
        "    '''\n",
        "    Input:\n",
        "        freqs: dictionary from (word, label) to how often the word appears\n",
        "        train_x: a list of tweets\n",
        "        train_y: a list of labels corresponding to the tweets (0,1)\n",
        "    Output:\n",
        "        logprior: the log prior. (equation 3 above)\n",
        "        loglikelihood: the log likelihood of you Naive bayes equation. (equation 6 above)\n",
        "    '''\n",
        "    loglikelihood = {}\n",
        "    logprior = 0\n",
        "\n",
        "    ### START CODE HERE ###\n",
        "\n",
        "    # calculate V, the number of unique words in the vocabulary\n",
        "    vocab = {key[0] for key in freqs.keys()}\n",
        "    V = len(vocab)\n",
        "\n",
        "    # calculate N_pos, N_neg, V_pos, V_neg\n",
        "    N_pos = N_neg = 0\n",
        "    for pair in freqs.keys():\n",
        "        # if the label is positive (greater than zero)\n",
        "        if pair[1] > 0:\n",
        "\n",
        "            # Increment the number of positive words by the count for this (word, label) pair\n",
        "            N_pos += freqs[pair]\n",
        "\n",
        "        # else, the label is negative\n",
        "        else:\n",
        "\n",
        "            # increment the number of negative words by the count for this (word,label) pair\n",
        "            N_neg += freqs[pair]\n",
        "\n",
        "    # Calculate D, the number of documents\n",
        "    D =len(train_y)\n",
        "\n",
        "    # Calculate D_pos, the number of positive documents\n",
        "    D_pos = sum(train_y)\n",
        "\n",
        "    # Calculate D_neg, the number of negative documents\n",
        "    D_neg = D-D_pos\n",
        "\n",
        "    # Calculate logprior\n",
        "    logprior = np.log(D_pos)- np.log(D_neg)\n",
        "\n",
        "    # For each word in the vocabulary...\n",
        "    for word in vocab:\n",
        "        # get the positive and negative frequency of the word\n",
        "        freq_pos = lookup(freqs, word,1)\n",
        "        freq_neg = lookup(freqs, word,0)\n",
        "\n",
        "        # calculate the probability that each word is positive, and negative\n",
        "        p_w_pos = (freq_pos + 1) / (N_pos + V)\n",
        "        p_w_neg = (freq_neg + 1) / (N_neg + V)\n",
        "\n",
        "        # calculate the log likelihood of the word\n",
        "        loglikelihood[word] = np.log(p_w_pos / p_w_neg)\n",
        "\n",
        "\n",
        "\n",
        "    return logprior, loglikelihood"
      ]
    },
    {
      "cell_type": "code",
      "execution_count": 160,
      "metadata": {
        "colab": {
          "base_uri": "https://localhost:8080/",
          "height": 0
        },
        "deletable": false,
        "editable": false,
        "id": "5y_nvkjjjMXE",
        "outputId": "918189c0-5b21-4026-cbe9-a251841189f7"
      },
      "outputs": [
        {
          "name": "stdout",
          "output_type": "stream",
          "text": [
            "0.008022258389143389\n",
            "7754\n"
          ]
        }
      ],
      "source": [
        "\n",
        "logprior, loglikelihood = train_naive_bayes(freqs, train_x, train_y)\n",
        "print(logprior)\n",
        "print(len(loglikelihood))"
      ]
    },
    {
      "cell_type": "markdown",
      "metadata": {
        "id": "fwo75Zd4jMXF"
      },
      "source": [
        "<a name='3'></a>\n",
        "## 3 - Test The Naive Bayes Classifier :\n",
        "\n",
        "Now that we have the `logprior` and `loglikelihood`, we can test the naive bayes function by making predicting on some tweets!\n",
        "\n",
        "<a name='ex-3'></a>\n",
        "###  naive_bayes_predict Function :\n",
        "Implementation of  `naive_bayes_predict`:\n",
        "\n",
        "* The function takes in the `tweet`, `logprior`, `loglikelihood`.\n",
        "* It returns the probability that the tweet belongs to the positive or negative class.\n",
        "* For each tweet, sum up loglikelihoods of each word in the tweet.\n",
        "* Also add the logprior to this sum to get the predicted sentiment of that tweet.\n",
        "\n",
        "$$ p = logprior + \\sum_i^N (loglikelihood_i)$$\n",
        "\n"
      ]
    },
    {
      "cell_type": "code",
      "execution_count": 161,
      "metadata": {
        "id": "w-d3-w6DjMXG"
      },
      "outputs": [],
      "source": [
        "\n",
        "\n",
        "def naive_bayes_predict(tweet, logprior, loglikelihood):\n",
        "    '''\n",
        "    Input:\n",
        "        tweet: a string\n",
        "        logprior: a number\n",
        "        loglikelihood: a dictionary of words mapping to numbers\n",
        "    Output:\n",
        "        p: the sum of all the logliklihoods of each word in the tweet (if found in the dictionary) + logprior (a number)\n",
        "\n",
        "    '''\n",
        "    # process the tweet to get a list of words\n",
        "    word_l = process_tweet(tweet)\n",
        "\n",
        "    # initialize probability to the value of LogPrior\n",
        "    p = logprior\n",
        "\n",
        "    for word in word_l:\n",
        "\n",
        "        # check if the word exists in the loglikelihood dictionary\n",
        "        if word in loglikelihood:\n",
        "            # add the log likelihood of that word to the probability\n",
        "            p += loglikelihood[word]\n",
        "\n",
        "\n",
        "\n",
        "    return p"
      ]
    },
    {
      "cell_type": "markdown",
      "metadata": {
        "id": "LDpoqxzijMXH"
      },
      "source": [
        "\n",
        "\n",
        "#### test_naive_bayes :\n",
        "**Instructions**:\n",
        "* we'll Implement `test_naive_bayes` to check the accuracy, precision, recall and F1 of the predictions.\n",
        "* The function takes in the `test_x`, `test_y`, log_prior, and loglikelihood\n",
        "* It returns the accuracy of the model as well as the other metrics\n"
      ]
    },
    {
      "cell_type": "code",
      "execution_count": 162,
      "metadata": {
        "id": "0HJkQZ_aw0nY"
      },
      "outputs": [],
      "source": [
        "\n",
        "\n",
        "def test_naive_bayes(test_x, test_y, logprior, loglikelihood, naive_bayes_predict=naive_bayes_predict):\n",
        "    \"\"\"\n",
        "    Test the logistic regression model and return its accuracy and classification report.\n",
        "\n",
        "    Parameters:\n",
        "    test_x (list): A list of tweets.\n",
        "    test_y (np.ndarray): A numpy array with the corresponding labels for the list of tweets.\n",
        "    freqs (dict): A dictionary with the frequency of each pair (or tuple).\n",
        "    theta (np.ndarray): Weight vector of dimension (3, 1).\n",
        "    predict_tweet (function): A function to predict the sentiment of a tweet.\n",
        "\n",
        "    Returns:\n",
        "    float, dict: The accuracy and a dictionary containing the classification report.\n",
        "    \"\"\"\n",
        "\n",
        "\n",
        "    accuracy = 0  # return this properly\n",
        "\n",
        "\n",
        "    y_hats = []\n",
        "\n",
        "    for tweet in test_x:\n",
        "        # if the prediction is > 0\n",
        "        if naive_bayes_predict(tweet, logprior, loglikelihood) > 0:\n",
        "            # the predicted class is 1\n",
        "            y_hat_i = 1\n",
        "        else:\n",
        "            # otherwise the predicted class is 0\n",
        "            y_hat_i = 0\n",
        "\n",
        "        # append the predicted class to the list y_hats\n",
        "        y_hats.append(y_hat_i)\n",
        "\n",
        "    # error is the average of the absolute values of the differences between y_hats and test_y\n",
        "    error = np.mean(abs(np.array(y_hats)-np.array(test_y)))\n",
        "\n",
        "    # Accuracy is 1 minus the error\n",
        "    accuracy = 1-error\n",
        "\n",
        "    # Generate classification report\n",
        "    report = classification_report(np.array(test_y), np.array(y_hats), output_dict=True)\n",
        "\n",
        "    return accuracy, report\n",
        "\n",
        "\n",
        "def print_classification_report(report,accuracy):\n",
        "    \"\"\"\n",
        "    Print the classification report.\n",
        "\n",
        "    Parameters:\n",
        "    report (dict): A dictionary containing the classification report.\n",
        "    \"\"\"\n",
        "    print(\"Classification Report:\")\n",
        "    print(\"Accuracy:\", round(accuracy,2)*100,\"%\")\n",
        "\n",
        "    for key, value in report.items():\n",
        "        if isinstance(value, dict):\n",
        "            print(f\"\\nClass {key}:\")\n",
        "            for score, score_value in value.items():\n",
        "                print(f\"{score.capitalize()}: {score_value:.2f}\")\n",
        "        else:\n",
        "            print(f\"{key.capitalize()}: {value:.2f}\")\n",
        "\n",
        "\n"
      ]
    },
    {
      "cell_type": "code",
      "execution_count": 163,
      "metadata": {
        "colab": {
          "base_uri": "https://localhost:8080/",
          "height": 0
        },
        "id": "SuEpkTq5w0nZ",
        "outputId": "e7511c5c-1c27-43d1-a3bb-5df25e748bb5"
      },
      "outputs": [
        {
          "name": "stdout",
          "output_type": "stream",
          "text": [
            "Classification Report:\n",
            "Accuracy: 88.0 %\n",
            "\n",
            "Class 0:\n",
            "Precision: 0.93\n",
            "Recall: 0.82\n",
            "F1-score: 0.87\n",
            "Support: 412.00\n",
            "\n",
            "Class 1:\n",
            "Precision: 0.83\n",
            "Recall: 0.93\n",
            "F1-score: 0.88\n",
            "Support: 399.00\n",
            "Accuracy: 0.88\n",
            "\n",
            "Class macro avg:\n",
            "Precision: 0.88\n",
            "Recall: 0.88\n",
            "F1-score: 0.88\n",
            "Support: 811.00\n",
            "\n",
            "Class weighted avg:\n",
            "Precision: 0.88\n",
            "Recall: 0.88\n",
            "F1-score: 0.88\n",
            "Support: 811.00\n"
          ]
        }
      ],
      "source": [
        "accuracy, report = test_naive_bayes(test_x, test_y, logprior, loglikelihood)\n",
        "\n",
        "print_classification_report(report,accuracy)"
      ]
    },
    {
      "cell_type": "code",
      "execution_count": 164,
      "metadata": {
        "colab": {
          "base_uri": "https://localhost:8080/",
          "height": 0
        },
        "deletable": false,
        "editable": false,
        "id": "ohx1MyttjMXI",
        "outputId": "aab66c10-f9c9-465d-d994-f99f996b6438",
        "scrolled": true
      },
      "outputs": [
        {
          "name": "stdout",
          "output_type": "stream",
          "text": [
            "I am not happy -> -2.80 (negative)\n",
            "my computer is good  -> 1.02 (positive)\n",
            "this movie should have been great. -> -1.10 (negative)\n",
            "great -> 0.15 (positive)\n",
            "great great -> 0.29 (positive)\n",
            "great great great -> 0.43 (positive)\n",
            "great great great great -> 0.57 (positive)\n"
          ]
        }
      ],
      "source": [
        "\n",
        "# Test The function on customised tweets\n",
        "\n",
        "for tweet in ['I am not happy', 'my computer is good ', 'this movie should have been great.', 'great', 'great great', 'great great great', 'great great great great']:\n",
        "    # print( '%s -> %f' % (tweet, naive_bayes_predict(tweet, logprior, loglikelihood)))\n",
        "    p_category='negative'\n",
        "    p = naive_bayes_predict(tweet, logprior, loglikelihood)\n",
        "    if p>0 : p_category='positive'\n",
        "    print(f'{tweet} -> {p:.2f} ({p_category})')\n"
      ]
    },
    {
      "cell_type": "markdown",
      "metadata": {
        "id": "hPcX2NTqjMXW"
      },
      "source": [
        "\n",
        "## 4 - Filter words by Ratio of Positive to Negative Counts\n",
        "\n",
        "- Some words have more positive counts than others, and can be considered \"more positive\".  Likewise, some words can be considered more negative than others.\n",
        "- One way for us to define the level of positiveness or negativeness, without calculating the log likelihood, is to compare the positive to negative frequency of the word.\n",
        "    - Note that we can also use the log likelihood calculations to compare relative positivity or negativity of words.\n",
        "- We can calculate the ratio of positive to negative frequencies of a word.\n",
        "- Once we're able to calculate these ratios, we can also filter a subset of words that have a minimum ratio of positivity / negativity or higher.\n",
        "- Similarly, we can also filter a subset of words that have a maximum ratio of positivity / negativity or lower (words that are at least as negative, or even more negative than a given threshold).\n",
        "\n",
        "\n",
        "\n",
        "### Implementation of `get_ratio` :\n",
        "\n",
        "- Given the freqs dictionary of words and a particular word, we will use `lookup(freqs,word,1)` to get the positive count of the word.\n",
        "- Similarly, we will also  use the `lookup` function to get the negative count of that word.\n",
        "-Then calculate the ratio of positive divided by negative counts\n",
        "\n",
        "$$ ratio = \\frac{\\text{pos_words} + 1}{\\text{neg_words} + 1} $$\n",
        "\n",
        "Where pos_words and neg_words correspond to the frequency of the words in their respective classes.\n",
        "<table>\n",
        "    <tr>\n",
        "        <td>\n",
        "            <b>Words</b>\n",
        "        </td>\n",
        "        <td>\n",
        "        Positive word count\n",
        "        </td>\n",
        "         <td>\n",
        "        Negative Word Count\n",
        "        </td>\n",
        "  </tr>\n",
        "    <tr>\n",
        "        <td>\n",
        "        glad\n",
        "        </td>\n",
        "         <td>\n",
        "        41\n",
        "        </td>\n",
        "    <td>\n",
        "        2\n",
        "        </td>\n",
        "  </tr>\n",
        "    <tr>\n",
        "        <td>\n",
        "        arriv\n",
        "        </td>\n",
        "         <td>\n",
        "        57\n",
        "        </td>\n",
        "    <td>\n",
        "        4\n",
        "        </td>\n",
        "  </tr>\n",
        "    <tr>\n",
        "        <td>\n",
        "        :(\n",
        "        </td>\n",
        "         <td>\n",
        "        1\n",
        "        </td>\n",
        "    <td>\n",
        "        3663\n",
        "        </td>\n",
        "  </tr>\n",
        "    <tr>\n",
        "        <td>\n",
        "        :-(\n",
        "        </td>\n",
        "         <td>\n",
        "        0\n",
        "        </td>\n",
        "    <td>\n",
        "        378\n",
        "        </td>\n",
        "  </tr>\n",
        "</table>"
      ]
    },
    {
      "cell_type": "code",
      "execution_count": 165,
      "metadata": {
        "id": "CXkPkoW0jMXW"
      },
      "outputs": [],
      "source": [
        "\n",
        "\n",
        "def get_ratio(freqs, word):\n",
        "    '''\n",
        "    Input:\n",
        "        freqs: dictionary containing the words\n",
        "\n",
        "    Output: a dictionary with keys 'positive', 'negative', and 'ratio'.\n",
        "        Example: {'positive': 10, 'negative': 20, 'ratio': 0.5}\n",
        "    '''\n",
        "    pos_neg_ratio = {'positive': 0, 'negative': 0, 'ratio': 0.0}\n",
        "\n",
        "    # use lookup() to find positive counts for the word (denoted by the integer 1)\n",
        "    pos_neg_ratio['positive'] = lookup(freqs,word,1)\n",
        "\n",
        "    # use lookup() to find negative counts for the word (denoted by integer 0)\n",
        "    pos_neg_ratio['negative'] = lookup(freqs,word,0)\n",
        "\n",
        "    # calculate the ratio of positive to negative counts for the word\n",
        "    pos_neg_ratio['ratio'] = (pos_neg_ratio['positive']+1) / (pos_neg_ratio['negative']+1)\n",
        "\n",
        "    return pos_neg_ratio\n"
      ]
    },
    {
      "cell_type": "code",
      "execution_count": 166,
      "metadata": {
        "colab": {
          "base_uri": "https://localhost:8080/",
          "height": 0
        },
        "id": "5Z9xcdn2jMXX",
        "outputId": "98000e78-3a8d-424a-fa21-a3580c016d08"
      },
      "outputs": [
        {
          "data": {
            "text/plain": [
              "{'positive': 4, 'negative': 94, 'ratio': 0.05263157894736842}"
            ]
          },
          "execution_count": 166,
          "metadata": {},
          "output_type": "execute_result"
        }
      ],
      "source": [
        "get_ratio(freqs, 'happi')"
      ]
    },
    {
      "cell_type": "markdown",
      "metadata": {
        "id": "ILbr_HgzjMXY"
      },
      "source": [
        "\n",
        "### 6 - get_words_by_threshold\n",
        "\n",
        "Implementation of  `get_words_by_threshold(freqs,label,threshold)`\n",
        "\n",
        "* If we set the label to 1, then we'll look for all words whose threshold of positive/negative is at least as high as that threshold, or higher.\n",
        "* If we set the label to 0, then we'll look for all words whose threshold of positive/negative is at most as low as the given threshold, or lower.\n",
        "* We will Use the `get_ratio` function to get a dictionary containing the positive count, negative count, and the ratio of positive to negative counts.\n",
        "* We will Append the `get_ratio` dictionary inside another dictinoary, where the key is the word, and the value is the dictionary `pos_neg_ratio` that is returned by the `get_ratio` function.\n",
        "An example key-value pair would have this structure:\n",
        "\n",
        "```\n",
        "{'happi':\n",
        "    {'positive': 10, 'negative': 20, 'ratio': 0.524}\n",
        "}\n",
        "```"
      ]
    },
    {
      "cell_type": "code",
      "execution_count": 167,
      "metadata": {
        "id": "fc7t666UjMXY"
      },
      "outputs": [],
      "source": [
        "\n",
        "\n",
        "def get_words_by_threshold(freqs, label, threshold, get_ratio=get_ratio):\n",
        "    '''\n",
        "    Input:\n",
        "        freqs: dictionary of words\n",
        "        label: 1 for positive, 0 for negative\n",
        "        threshold: ratio that will be used as the cutoff for including a word in the returned dictionary\n",
        "    Output:\n",
        "        word_list: dictionary containing the word and information on its positive count, negative count, and ratio of positive to negative counts.\n",
        "        example of a key value pair:\n",
        "        {'happi':\n",
        "            {'positive': 10, 'negative': 20, 'ratio': 0.5}\n",
        "        }\n",
        "    '''\n",
        "    word_list = {}\n",
        "\n",
        "\n",
        "    for key in freqs.keys():\n",
        "        word, _ = key\n",
        "\n",
        "        # get the positive/negative ratio for a word\n",
        "        pos_neg_ratio = get_ratio(freqs,word)\n",
        "\n",
        "        # if the label is 1 and the ratio is greater than or equal to the threshold...\n",
        "        if label == 1 and pos_neg_ratio['ratio'] >= threshold:\n",
        "\n",
        "            # Add the pos_neg_ratio to the dictionary\n",
        "            word_list[word] = pos_neg_ratio\n",
        "\n",
        "        # If the label is 0 and the pos_neg_ratio is less than or equal to the threshold...\n",
        "        elif label == 0 and pos_neg_ratio['ratio'] <= threshold:\n",
        "\n",
        "            # Add the pos_neg_ratio to the dictionary\n",
        "            word_list[word] = pos_neg_ratio\n",
        "\n",
        "        # otherwise, do not include this word in the list (do nothing)\n",
        "\n",
        "\n",
        "    return word_list\n"
      ]
    },
    {
      "cell_type": "code",
      "execution_count": 168,
      "metadata": {
        "colab": {
          "base_uri": "https://localhost:8080/",
          "height": 0
        },
        "id": "txcEqRk9jMXY",
        "outputId": "eb0ee2dd-b99c-4ace-8e0a-22c952332da7"
      },
      "outputs": [
        {
          "data": {
            "text/plain": [
              "{'instagood': {'positive': 0, 'negative': 64, 'ratio': 0.015384615384615385},\n",
              " 'iphonesia': {'positive': 0, 'negative': 36, 'ratio': 0.02702702702702703},\n",
              " 'photooftheday': {'positive': 0,\n",
              "  'negative': 47,\n",
              "  'ratio': 0.020833333333333332},\n",
              " 'instamood': {'positive': 0, 'negative': 25, 'ratio': 0.038461538461538464},\n",
              " 'iger': {'positive': 0, 'negative': 45, 'ratio': 0.021739130434782608},\n",
              " 'cute': {'positive': 0, 'negative': 100, 'ratio': 0.009900990099009901},\n",
              " 'instadaili': {'positive': 0, 'negative': 20, 'ratio': 0.047619047619047616},\n",
              " 'iphoneonli': {'positive': 0, 'negative': 34, 'ratio': 0.02857142857142857},\n",
              " 'follow': {'positive': 3, 'negative': 271, 'ratio': 0.014705882352941176},\n",
              " 'gift': {'positive': 0, 'negative': 41, 'ratio': 0.023809523809523808},\n",
              " 'photographi': {'positive': 2, 'negative': 87, 'ratio': 0.03409090909090909},\n",
              " 'fashion': {'positive': 2, 'negative': 66, 'ratio': 0.04477611940298507},\n",
              " 'picoftheday': {'positive': 0, 'negative': 25, 'ratio': 0.038461538461538464},\n",
              " 'birthday': {'positive': 1, 'negative': 57, 'ratio': 0.034482758620689655},\n",
              " 'smile': {'positive': 2, 'negative': 65, 'ratio': 0.045454545454545456},\n",
              " 'tl': {'positive': 0, 'negative': 19, 'ratio': 0.05},\n",
              " 'blue': {'positive': 0, 'negative': 24, 'ratio': 0.04},\n",
              " 'gain': {'positive': 1, 'negative': 92, 'ratio': 0.021505376344086023},\n",
              " 'sougofollow': {'positive': 0, 'negative': 50, 'ratio': 0.0196078431372549},\n",
              " 'toy': {'positive': 0, 'negative': 20, 'ratio': 0.047619047619047616},\n",
              " 'beauti': {'positive': 0, 'negative': 66, 'ratio': 0.014925373134328358},\n",
              " 'girl': {'positive': 2, 'negative': 61, 'ratio': 0.04838709677419355},\n",
              " 'pink': {'positive': 0, 'negative': 29, 'ratio': 0.03333333333333333},\n",
              " 'sonyphoto': {'positive': 0, 'negative': 22, 'ratio': 0.043478260869565216},\n",
              " 'natur': {'positive': 0, 'negative': 32, 'ratio': 0.030303030303030304},\n",
              " 'food': {'positive': 0, 'negative': 22, 'ratio': 0.043478260869565216}}"
            ]
          },
          "execution_count": 168,
          "metadata": {},
          "output_type": "execute_result"
        }
      ],
      "source": [
        "# Test the function: find negative words at or below a threshold\n",
        "get_words_by_threshold(freqs, label=0, threshold=0.05)"
      ]
    },
    {
      "cell_type": "code",
      "execution_count": 169,
      "metadata": {
        "colab": {
          "base_uri": "https://localhost:8080/",
          "height": 0
        },
        "id": "lytyy3w9jMXY",
        "outputId": "40923196-f953-47ac-cd63-15d6879fc79d"
      },
      "outputs": [
        {
          "data": {
            "text/plain": [
              "{'spent': {'positive': 12, 'negative': 0, 'ratio': 13.0},\n",
              " 'suck': {'positive': 82, 'negative': 5, 'ratio': 13.833333333333334},\n",
              " 'left': {'positive': 9, 'negative': 0, 'ratio': 10.0},\n",
              " 'fuck': {'positive': 209, 'negative': 5, 'ratio': 35.0},\n",
              " 'stop': {'positive': 30, 'negative': 2, 'ratio': 10.333333333333334},\n",
              " 'stupid': {'positive': 47, 'negative': 2, 'ratio': 16.0},\n",
              " 'yet': {'positive': 19, 'negative': 1, 'ratio': 10.0},\n",
              " 'either': {'positive': 9, 'negative': 0, 'ratio': 10.0},\n",
              " 'hate': {'positive': 111, 'negative': 8, 'ratio': 12.444444444444445},\n",
              " 'cost': {'positive': 9, 'negative': 0, 'ratio': 10.0},\n",
              " 'piss': {'positive': 30, 'negative': 1, 'ratio': 15.5},\n",
              " 'text': {'positive': 39, 'negative': 2, 'ratio': 13.333333333333334},\n",
              " 'sync': {'positive': 26, 'negative': 1, 'ratio': 13.5},\n",
              " 'updat': {'positive': 156, 'negative': 10, 'ratio': 14.272727272727273},\n",
              " 'fix': {'positive': 53, 'negative': 3, 'ratio': 13.5},\n",
              " 'id': {'positive': 10, 'negative': 0, 'ratio': 11.0},\n",
              " 'restor': {'positive': 36, 'negative': 2, 'ratio': 12.333333333333334},\n",
              " 'fuckyou': {'positive': 56, 'negative': 4, 'ratio': 11.4},\n",
              " 'wrong': {'positive': 10, 'negative': 0, 'ratio': 11.0},\n",
              " 'seem': {'positive': 11, 'negative': 0, 'ratio': 12.0},\n",
              " 'anyon': {'positive': 19, 'negative': 0, 'ratio': 20.0},\n",
              " 'wtf': {'positive': 19, 'negative': 1, 'ratio': 10.0},\n",
              " 'drive': {'positive': 9, 'negative': 0, 'ratio': 10.0},\n",
              " 'hateappl': {'positive': 37, 'negative': 1, 'ratio': 19.0},\n",
              " 'useless': {'positive': 11, 'negative': 0, 'ratio': 12.0},\n",
              " 'program': {'positive': 9, 'negative': 0, 'ratio': 10.0},\n",
              " 'send': {'positive': 20, 'negative': 0, 'ratio': 21.0},\n",
              " 'lock': {'positive': 21, 'negative': 1, 'ratio': 11.0},\n",
              " 'rid': {'positive': 10, 'negative': 0, 'ratio': 11.0},\n",
              " 'secur': {'positive': 11, 'negative': 0, 'ratio': 12.0},\n",
              " 'broken': {'positive': 28, 'negative': 1, 'ratio': 14.5},\n",
              " 'applesuck': {'positive': 11, 'negative': 0, 'ratio': 12.0},\n",
              " 'longer': {'positive': 9, 'negative': 0, 'ratio': 10.0},\n",
              " 'right': {'positive': 39, 'negative': 2, 'ratio': 13.333333333333334},\n",
              " 'shitti': {'positive': 13, 'negative': 0, 'ratio': 14.0},\n",
              " 'reason': {'positive': 19, 'negative': 1, 'ratio': 10.0},\n",
              " 'might': {'positive': 9, 'negative': 0, 'ratio': 10.0},\n",
              " 'hateiphon': {'positive': 11, 'negative': 0, 'ratio': 12.0},\n",
              " 'playlist': {'positive': 11, 'negative': 0, 'ratio': 12.0},\n",
              " 'data': {'positive': 14, 'negative': 0, 'ratio': 15.0}}"
            ]
          },
          "execution_count": 169,
          "metadata": {},
          "output_type": "execute_result"
        }
      ],
      "source": [
        "# Test the function; find positive words at or above a threshold\n",
        "get_words_by_threshold(freqs, label=1, threshold=10)"
      ]
    },
    {
      "cell_type": "markdown",
      "metadata": {
        "id": "rZ5Yr2rvjMXZ"
      },
      "source": [
        "Notice the difference between the positive and negative ratios. Emojis like :( and words like 'me' tend to have a negative connotation. Other words like glad, community, arrives, tend to be found in the positive tweets."
      ]
    },
    {
      "cell_type": "markdown",
      "metadata": {
        "id": "qcxTxPj-jMXZ"
      },
      "source": [
        "<a name='5'></a>\n",
        "## 5 - Error Analysis\n",
        "\n",
        "In this part we will see some tweets that the model missclassified. Why do we think the missclassifications happened? Were there any assumptions made by the naive bayes model?"
      ]
    },
    {
      "cell_type": "code",
      "execution_count": 170,
      "metadata": {
        "colab": {
          "base_uri": "https://localhost:8080/",
          "height": 0
        },
        "id": "D4zC97mgjMXa",
        "outputId": "f837772e-ca11-49bc-f9ca-52e5a759a2cb"
      },
      "outputs": [
        {
          "name": "stdout",
          "output_type": "stream",
          "text": [
            "Truth Predicted Tweet\n",
            "0\t1.00\tb'see mani featur know iphon ... iphon yourtechcompani pic.twitter.com/wm6ixddugl'\n",
            "0\t1.00\tb\"feel broken phone' screen replac ... iphon happi pic.twitter.com/ygsuke2c\"\n",
            "0\t1.00\tb'less 24 hour left iphon countdown cantwait byeby appl'\n",
            "1\t0.00\tb'welcom 80 appl soni everybodi cook soup lightpeak rest peac lightpeak standard soni appl'\n",
            "0\t1.00\tb'... woke babi still right next iphon know would without reliev .. <- lmao'\n",
            "1\t0.00\tb'dream bought new iphon nightmar neveragain'\n",
            "0\t1.00\tb'wait ipad 4 arriv appl pic.twitter.com/cvibdzjrxw'\n",
            "0\t1.00\tb'new laptop soni vaio laptop lap top lap bottom comput litup keyboard screen'\n",
            "0\t1.00\tb\"steve job god world would'v addict technolog anyway tri give better version steve\"\n",
            "0\t1.00\tb\"that' get samsung s5 bend throw wall still work blessedinde\"\n",
            "0\t1.00\tb'havent phone 5 hour dont tink last till 12 tomorrow'\n",
            "0\t1.00\tb'tear ps3 apart find problem fix put back togeth less 20 minut playstat soni ps3'\n",
            "0\t1.00\tb'top io news week iphon sale ipad sale dropbox appl expect sell 71.5 '\n",
            "0\t1.00\tb'let get hook fast w iphon u fall promis'\n",
            "0\t1.00\tb'ps4 worst system creat take 4 day watch movi netflix caus playstat crash daili fixit soni'\n",
            "0\t1.00\tb'hey googl facebook appl microsoft aol skype yahoo headlinenew'\n",
            "0\t1.00\tb\"bad i'v noth problem product\"\n",
            "1\t0.00\tb'cool stori bitch tell boss snowwhit snow white appl dont care k'\n",
            "0\t1.00\tb'electra jailbreak 1.0 2 io 11.3 1  io 11.2 releas version  crackedscreenrepairyakima yakima icrack icrackedyakima crackedscreen iphon appl iphoneonli brokenphon cellphon cellphonerepair'\n",
            "1\t0.00\tb'new phone citag appl ppl suck htc htcone newphon inlov htcforev '\n",
            "0\t1.00\tb'appl product .. mac imac macbook macbookpro logo iphon phone ipod ipad app'\n",
            "0\t1.00\tb'well see iphon clearli less 7 accept :o)'\n",
            "0\t1.00\tb'mom ran outsid appl pic.twitter.com/iwxy7d1mk6'\n",
            "0\t1.00\tb'life deepli involv yet less attach truth quot iphon'\n",
            "0\t1.00\tb'feel find ya appl headphon work appl pic.twitter.com/jnlm6cca3x'\n",
            "0\t1.00\tb'appl watch tell  sad speak  pic.twitter.com/ynkcvwvbaz'\n",
            "0\t1.00\tb'samsung sale super prompt came n fix fridg freezer door'\n",
            "0\t1.00\tb'instal icloud comput wipe outlook contact calend'\n",
            "1\t0.00\tb'news uk android version mag yet nexu 7 sold like hot cake side pond'\n",
            "0\t1.00\tb'ah appl itun 12 updat ... amaz report sarcastivil station librari option'\n",
            "0\t1.00\tb'appl su polish groceri chain a.pl allegedli copi logo brand icon idiot ... hatemac'\n",
            "1\t0.00\tb'promot sheep like follow mostli vapid logo fawn hateit'\n",
            "0\t1.00\tb'good even type text anymor life like time iphon'\n",
            "1\t0.00\tb'anoth cool photo hate fit screen :/ instagood iphon mctrendsphoto'\n",
            "0\t1.00\tb'first new phone sinc 2007 ... quit like thu far ... realli love droid phone motorola'\n",
            "1\t0.00\tb'sunday everi sunday homework midterm suck giraff onesi candl appl mac macbook '\n",
            "0\t1.00\tb'instal free program 1 creat appleid 2 verifi id 3 initi id give cc inform ... etc'\n",
            "0\t1.00\tb\"i'v got new phone samsung lafleur \"\n",
            "1\t0.00\tb'appl perfect want relinquish control live corpor'\n",
            "0\t1.00\tb'appl call made someth wrong right today make thank'\n",
            "0\t1.00\tb'love fuck ipad rednos musicevideo blackfriday walmart appl ipadmini'\n",
            "0\t1.00\tb'appar 4 pain hour go .. say .. io 7 appl staytun pic.twitter.com/rgjiklyw7h'\n",
            "0\t1.00\tb'save money ipad mini .. hope get next week appl ipad'\n",
            "0\t1.00\tb'googl map iphon excit need ipad mini version appl map push pin money'\n",
            "0\t1.00\tb\"case wonder i'm appl robot hater\"\n",
            "0\t1.00\tb'appl alway pay primetim show put placement ... appl'\n",
            "1\t0.00\tb\"apple' mighti mous came 2 lithium aa' apple' magic mous come 2 alkalin aa' magic mous appl\"\n",
            "1\t0.00\tb'dear appl user android specif samsung like'\n",
            "0\t1.00\tb\"i'm press speed iphon 4 definit feel product increas new toy review appl iphon\"\n",
            "0\t1.00\tb'arghhh cant beliv .. hand magic tq tq suprisegift galaxycamera samsung th'\n",
            "0\t1.00\tb'photo android take appl rightli iphonei macsar'\n",
            "0\t1.00\tb'final get comp updat mountain lion :) appl mac'\n",
            "0\t1.00\tb\"can't wait tri .. still z1 compact extrem super qualiti soni xperia\"\n",
            "0\t1.00\tb'luck plan digitalmarket seo smm android appl ipon io strategi goa growth brand startupindia quot'\n",
            "1\t0.00\tb'bought xbox monday 5day ago last night tv brokedown soni '\n",
            "0\t1.00\tb'taylor swift join open act camila cabello charli xcx start reput tour'\n",
            "0\t1.00\tb'love appl io 5 happi w 2hr upgrad sync worth'\n",
            "0\t1.00\tb'job search remix june 13th jobpounc iphon sinanew lastfm music 1 hire'\n",
            "1\t0.00\tb'iphon regist iphon recept iphon fucken iphon blah blah blah nokia 71'\n",
            "0\t1.00\tb'shatter phone :( piss nophon shatter iphon angri wantmyphoneback iphon 5'\n",
            "0\t1.00\tb'see posit smallest thing appl heart wednesdaymotiv healthpic.twitter.com/i29mx4wg4p'\n",
            "0\t1.00\tb'keep lookout next blog addict appl come soon appl icrack steve job ipad iphon mac'\n",
            "0\t1.00\tb'3 hour later still tri instal io 7 pleas googl android peopl bother comment care appl'\n",
            "0\t1.00\tb'let one know simpl push button new allstat app iphon'\n",
            "1\t0.00\tb'samsung go reveng appl go sweet ... hope samsung win'\n",
            "1\t0.00\tb'great day hockey let go bruin sky appl iphon 4s iger '\n",
            "1\t0.00\tb'enjoy morn coffe work beenhipst hipster appl coffe '\n",
            "1\t0.00\tb'fe fucks black man see wife fucks black man spank porn iphon ipad'\n",
            "1\t0.00\tb'samsung dethron nokia top cellphon brand 2012 beat appl appl fan'\n",
            "1\t0.00\tb'ugh rumor apple-twitt deal quit twitter cold turkey happen'\n",
            "0\t1.00\tb'hole suck appl bring classi instead funki'\n",
            "0\t1.00\tb\"i'm part appl iphon 4s famili appl iphon pic.twitter.com/d7wdsxy5\"\n",
            "0\t1.00\tb'speaker laptop laptop speaker music deal radio lol school home work life iphon game screen comput work night bag tri time day batteri someon hour week desktop usb thing musicvideo newmusicpic.twitter.com/0t4z54vzxg'\n",
            "1\t0.00\tb\"there' fine line love hate hate iphon iphonesia instagram saturday\"\n",
            "0\t1.00\tb'see mani featur know iphon ... iphon yourtechcompani pic.twitter.com/hs206iza4i'\n",
            "0\t1.00\tb'cool figur add podcast zunehd hateitun listen walk'\n",
            "0\t1.00\tb'wow tough real talk well unlimit mm appl iphon technolog expect lotsa relev tweet'\n",
            "1\t0.00\tb'lol nick rt say hateappl android picoftheday photooftheday insta instagram'\n",
            "0\t1.00\tb'final got smart pocket wifi stay connect anytim anywher ipad samsung s3 gadget'\n",
            "0\t1.00\tb\"root android phone instal lagfix patch samsung galaxi i'm\"\n",
            "0\t1.00\tb'yeah ... stay still </3 smh iphon instagram heartbroken life lessonlearn'\n",
            "1\t0.00\tb'iphon 5c avail indonesia januari 2014 .. appl iphon'\n",
            "1\t0.00\tb'big bang creat galaxi nowaday galaxi creat big bang revers engin best samsungblast bigbangtheori notphys'\n",
            "1\t0.00\tb'guy check upgrad elig switch samsung s4 iphon'\n",
            "0\t1.00\tb\"onepluson beast phone final bought one can't get hand enjoyingmyself thankyou oneplu inlov\"\n",
            "0\t1.00\tb'noth like happi mac totoro appl mac idea japaneseanim weird'\n",
            "0\t1.00\tb\"can't everi time look pc laptop make want macbook pro even ... appl\"\n",
            "1\t0.00\tb'lmao siri iphon 4s iphon appl funni lol smart haha'\n",
            "0\t1.00\tb'rt babi appl suck appl mac babi children user makassar sulsel indonesia'\n",
            "0\t1.00\tb'what next rt appl watch tell sad speak io'\n",
            "0\t1.00\tb\"iphone' wallpap much full constel milk way want bump\"\n",
            "0\t1.00\tb\"3 4 yr rare problem ipodclass less 1 yr i'v multipl issu ipodtouch fifth gen appl\"\n",
            "0\t1.00\tb' tonight .. oh know anoth day work film pharrel soni musicvideo  go boy :)'\n",
            "0\t1.00\tb'... evo thing least 3 year ...  iphonerantcontinu'\n",
            "0\t1.00\tb'track purchas itun 853 purchas track current work itun zero appl stillbuyinganiphon'\n",
            "0\t1.00\tb'appl deal massiv patent blow htc android seriou troubl'\n",
            "1\t0.00\tb'make time peopl make time sad samsung galaxi 3 galaxi 4 '\n",
            "0\t1.00\tb'daili reinvest done stop inflat earn beat bank bitcoin passiv incom profit followm joinmyteam freedom invest compound money needmoney learn broke help bill cash samsung mine instagrampic.twitter.com/auyzregk2o'\n",
            "0\t1.00\tb'trend topic earth day earthday appl health 2con susan boyl apprentic oprah ipod iphon'\n",
            "1\t0.00\tb'final got macbook air appl photobooth pj selfpic badqual got macbook air'\n",
            "0\t1.00\tb'tip use iphon 5 would greatli appreci'\n"
          ]
        }
      ],
      "source": [
        "# Some error analysis done\n",
        "print('Truth Predicted Tweet')\n",
        "for x, y in zip(test_x, test_y):\n",
        "    y_hat = naive_bayes_predict(x, logprior, loglikelihood)\n",
        "    if y != (np.sign(y_hat) > 0):\n",
        "        print('%d\\t%0.2f\\t%s' % (y, np.sign(y_hat) > 0, ' '.join(\n",
        "            process_tweet(x)).encode('ascii', 'ignore')))"
      ]
    },
    {
      "cell_type": "markdown",
      "metadata": {
        "id": "NuDD6dyGjMXa"
      },
      "source": [
        "<a name='6'></a>\n",
        "## 6 - Predict with your own Tweet\n",
        "\n",
        "In this part you can predict the sentiment of your own tweet."
      ]
    },
    {
      "cell_type": "code",
      "execution_count": 171,
      "metadata": {
        "colab": {
          "base_uri": "https://localhost:8080/",
          "height": 0
        },
        "id": "lCIRffgKjMXb",
        "outputId": "09919551-d971-44ca-efac-dc6954d0794c"
      },
      "outputs": [
        {
          "name": "stdout",
          "output_type": "stream",
          "text": [
            "positive\n"
          ]
        }
      ],
      "source": [
        "# Test with your own tweet - feel free to modify `my_tweet`\n",
        "my_tweet = 'apple have great phones  !  '\n",
        "\n",
        "\n",
        "p = naive_bayes_predict(my_tweet, logprior, loglikelihood)\n",
        "\n",
        "sentiment='negative'\n",
        "if p>=0 : sentiment = 'positive'\n",
        "\n",
        "print(sentiment)"
      ]
    }
  ],
  "metadata": {
    "accelerator": "GPU",
    "colab": {
      "gpuType": "T4",
      "provenance": []
    },
    "kernelspec": {
      "display_name": "Python 3",
      "name": "python3"
    },
    "language_info": {
      "codemirror_mode": {
        "name": "ipython",
        "version": 3
      },
      "file_extension": ".py",
      "mimetype": "text/x-python",
      "name": "python",
      "nbconvert_exporter": "python",
      "pygments_lexer": "ipython3",
      "version": "3.7.6"
    }
  },
  "nbformat": 4,
  "nbformat_minor": 0
}
